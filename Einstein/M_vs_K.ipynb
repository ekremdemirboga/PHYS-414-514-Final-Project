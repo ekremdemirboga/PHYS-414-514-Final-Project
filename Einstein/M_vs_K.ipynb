{
 "cells": [
  {
   "cell_type": "code",
   "execution_count": 1,
   "metadata": {},
   "outputs": [],
   "source": [
    "import numpy as np\n",
    "import tov_solver as tov\n",
    "import matplotlib.pyplot as plt\n",
    "\n",
    "def max_K():\n",
    "    #### Scaling Factors ####\n",
    "    length = 1477 #m\n",
    "    time = 4.927 #s\n",
    "    solar_mass = 1.989e30 #kg\n",
    "\n",
    "    mass = []\n",
    "    max_mass =[]\n",
    "\n",
    "    tol = 1e-21\n",
    "\n",
    "    rho_c = np.linspace(1e-1,1e-4,100) ## 200 evenly spaced rho_c values as inital guess around atomic density 1e-3\n",
    "    K = np.linspace(50,250,20)\n",
    "    for k in K:\n",
    "        for rho in rho_c:\n",
    "            sol = tov.TOV_solver(rho,k)\n",
    "            mass.append(sol.y[0,-1])\n",
    "        mass = np.array(mass)    \n",
    "        for i in range(len(mass)-1):\n",
    "            if((mass[i+1] - mass[i]) / (rho_c[i+1] - rho_c[i])  <= tol):\n",
    "                max_mass.append(mass[i])\n",
    "                break\n",
    "        mass = []\n",
    "\n",
    "    fig, axis = plt.subplots(figsize = (9,5))\n",
    "    plt.plot(K,max_mass,'ro',K,max_mass,'--g')\n",
    "    plt.grid(1)\n",
    "    plt.title(\"Maximum Mass-K of Neutron Stars\")\n",
    "    plt.xlabel(\"K\")\n",
    "    plt.ylabel(\"Maximum Mass(Solar Mass)\")"
   ]
  }
 ],
 "metadata": {
  "kernelspec": {
   "display_name": "Python 3",
   "language": "python",
   "name": "python3"
  },
  "language_info": {
   "codemirror_mode": {
    "name": "ipython",
    "version": 3
   },
   "file_extension": ".py",
   "mimetype": "text/x-python",
   "name": "python",
   "nbconvert_exporter": "python",
   "pygments_lexer": "ipython3",
   "version": "3.6.9"
  }
 },
 "nbformat": 4,
 "nbformat_minor": 2
}
