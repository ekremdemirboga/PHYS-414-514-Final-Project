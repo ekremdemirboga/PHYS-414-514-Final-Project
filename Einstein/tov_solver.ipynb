{
 "cells": [
  {
   "cell_type": "code",
   "execution_count": 1,
   "metadata": {},
   "outputs": [],
   "source": [
    "import numpy as np \n",
    "import matplotlib.pyplot as plt \n",
    "from scipy.integrate import solve_ivp\n",
    "\n",
    "def TOV_solver(rho_c,K=50):\n",
    "    \n",
    "    \n",
    "    def EOS(p, K, Gamma=2):\n",
    "        rho = (p/K)**(1/Gamma)\n",
    "        return rho\n",
    " \n",
    "    def TOV(r, y):\n",
    "        m = y[0]\n",
    "        v = y[1]\n",
    "        p = y[2]\n",
    "        baryonic_m = y[3]\n",
    "        dmdr = 4*pi*(r**2)*EOS(p)\n",
    "        dvdr = (2*(m + 4*np.pi*r**3*p))/(r*(r-2*m))\n",
    "        dpdr = -0.5*(p+EOS(p))*dvdr\n",
    "        dbmdr = 4*np.pi*(1 - 2*m/r)**(-1/2)*r**2*EOS(p)\n",
    "        return [dmdr, dvdr, dpdr, dbmdr]\n",
    "    \n",
    "    def stop_condition(r, y):\n",
    "        return y[2]\n",
    "    stop_condition.terminal = True\n",
    "    \n",
    "    dt = 1e-10\n",
    "    p_c = rho_c**2*50\n",
    "    tspan = np.linspace(0+dt,100,1000)  \n",
    "    yinit = [0,0,p_c,0]    \n",
    "    sol = solve_ivp(lambda r, y: TOV(r, y),[tspan[0], tspan[-1]], yinit,method='RK45',events=stop_condition)\n",
    "    \n",
    "    \n",
    "    return sol"
   ]
  },
  {
   "cell_type": "code",
   "execution_count": null,
   "metadata": {},
   "outputs": [],
   "source": []
  }
 ],
 "metadata": {
  "kernelspec": {
   "display_name": "Python 3",
   "language": "python",
   "name": "python3"
  },
  "language_info": {
   "codemirror_mode": {
    "name": "ipython",
    "version": 3
   },
   "file_extension": ".py",
   "mimetype": "text/x-python",
   "name": "python",
   "nbconvert_exporter": "python",
   "pygments_lexer": "ipython3",
   "version": "3.6.9"
  }
 },
 "nbformat": 4,
 "nbformat_minor": 2
}
