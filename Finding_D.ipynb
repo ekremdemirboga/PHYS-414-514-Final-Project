{
 "cells": [
  {
   "cell_type": "code",
   "execution_count": 156,
   "metadata": {},
   "outputs": [
    {
     "name": "stdout",
     "output_type": "stream",
     "text": [
      "0 error: 5.378099689729537e-09 D 2000000000.0\n"
     ]
    },
    {
     "name": "stderr",
     "output_type": "stream",
     "text": [
      "/home/ekrem/Ekrem/chandrasekhar_solver.py:16: RuntimeWarning: invalid value encountered in double_scalars\n",
      "  dydt = [y[1] , (-2/t)*y[1] - (y[0]**2 - (1/y_c**2))**(3/2)]\n"
     ]
    },
    {
     "name": "stdout",
     "output_type": "stream",
     "text": [
      "1 error: 1.5569215006333243e-06 D 1990000000.0\n",
      "2 error: 1.4115043246160644e-06 D 1980000000.0\n",
      "3 error: 1.2463700180978479e-06 D 1970000000.0\n",
      "4 error: 1.3776459999375008e-06 D 1960000000.0\n",
      "5 error: 1.303746634448584e-06 D 1950000000.0\n",
      "6 error: 9.404673314906034e-07 D 1940000000.0\n",
      "7 error: 8.367924310967327e-07 D 1930000000.0\n",
      "8 error: 7.453437931249315e-07 D 1920000000.0\n",
      "9 error: 6.476722214288424e-07 D 1910000000.0\n",
      "10 error: 5.617006055875795e-07 D 1900000000.0\n",
      "11 error: 5.547926550566573e-07 D 1890000000.0\n",
      "12 error: 4.752868579832936e-07 D 1880000000.0\n",
      "13 error: 3.4043629075293255e-07 D 1870000000.0\n",
      "14 error: 3.640189857365067e-07 D 1860000000.0\n",
      "15 error: 3.370076035187555e-07 D 1850000000.0\n",
      "16 error: 2.4281731316789013e-07 D 1840000000.0\n",
      "17 error: 1.4830577553042543e-07 D 1830000000.0\n",
      "18 error: 1.3824303455488942e-07 D 1820000000.0\n",
      "19 error: 9.958939998884941e-08 D 1810000000.0\n",
      "20 error: 7.037712004925725e-08 D 1800000000.0\n",
      "21 error: 3.945294706457177e-08 D 1790000000.0\n",
      "22 error: 1.5953552102673424e-08 D 1780000000.0\n",
      "D is : 1780000000.0 with error:  5.378099689729537e-09 corresponding C is:  5.165215436316856e+21\n"
     ]
    },
    {
     "data": {
      "text/plain": [
       "<Figure size 432x288 with 0 Axes>"
      ]
     },
     "metadata": {},
     "output_type": "display_data"
    },
    {
     "data": {
      "image/png": "[encoded data removed]",
      "text/plain": [
       "<Figure size 648x360 with 1 Axes>"
      ]
     },
     "metadata": {},
     "output_type": "display_data"
    }
   ],
   "source": [
    "import numpy as np\n",
    "import chandrasekhar_solver as ch\n",
    "import Functions as F\n",
    "from scipy.interpolate import UnivariateSpline\n",
    "import matplotlib.pyplot as plt\n",
    "\n",
    "### DATA ### \n",
    "M,logg = F.data_reader()\n",
    "M,R = F.scaler(M,logg)\n",
    "\n",
    "### inital guess ###\n",
    "max_iter = 100\n",
    "D = 2e9\n",
    "dD = 1e7\n",
    "rho_c = np.linspace(10**10,10**7,20)\n",
    "tol = 1e-8\n",
    "\n",
    "### CONSTANTS(SI) ###\n",
    "K = 3161125.6038212245 #theoratical value\n",
    "G = 6.67408e-11\n",
    "solar_mass = 1.988e30 #kg\n",
    "earth_radius = 6.371e6 #m\n",
    "\n",
    "zeta_n = 0 ## when the solution reaches surface value.\n",
    "zeta_prime_n = 0 ## when the derivative reaches the surface\n",
    "Radius = 0\n",
    "Mass = 0\n",
    "R_new = [] ## for storing new radius and mass\n",
    "M_new = []\n",
    "\n",
    "for i in range(max_iter):\n",
    "        \n",
    "    print(i,\"error:\",error,\"D\",D)\n",
    "    #D or rho_c dependent variables\n",
    "    C = (5/8)*K*(D**(5/3))\n",
    "    for rho in rho_c:\n",
    "        ### solve the chandrasekhar for given rho and D ###\n",
    "        sol,surface = ch.solve_chan(D,rho,limit=8.2,met='RK45')\n",
    "        ##### find the surface #####\n",
    "        for j in range(len(sol.t)):\n",
    "            if (sol.y[0,j] <= surface):\n",
    "                zeta_n = sol.t[j]\n",
    "                zeta_prime_n = sol.y[1,j]\n",
    "            elif(sol.y[0,-1]> surface):\n",
    "                zeta_n = sol.t[-1]\n",
    "                zeta_prime_n = sol.y[1,-1]\n",
    "                \n",
    "\n",
    "\n",
    "        #############################\n",
    "        ### For Radius ###\n",
    "        y_c = np.sqrt(rho/D + 1)\n",
    "        Beta = np.sqrt((2*C)/(np.pi*G))/(D*y_c) ## scale factor of radius\n",
    "        Radius = (Beta*zeta_n)\n",
    "        ### For Mass ###\n",
    "        Mass = 4*np.pi*(Radius**3)*D*(y_c**3)*(-zeta_prime_n/zeta_n)\n",
    "        Mass = Mass/solar_mass\n",
    "        Radius = Radius/earth_radius\n",
    "        ## add them to array\n",
    "        R_new.append(Radius)\n",
    "        M_new.append(Mass)\n",
    "    R_new = np.array(R_new)\n",
    "    M_new = np.array(M_new)\n",
    "    spl = UnivariateSpline(R_new, M_new)\n",
    "    R_new = []\n",
    "    M_new = []\n",
    "    \n",
    "    ### calculate error\n",
    "    error = 0\n",
    "    for l in range(len(R)):\n",
    "        error = error + (M[l]-spl(R[l]))**2\n",
    "        error = error/(len(R))\n",
    "\n",
    "    if (error < tol):\n",
    "        print(\"D is :\",D,\"with error: \", error,\"corresponding C is: \", C)\n",
    "        x = np.linspace(0,2.8,500)\n",
    "        plt.figure()\n",
    "        fig, axis = plt.subplots(figsize = (9,5))\n",
    "        plt.plot(R,M,'ro',x,spl(x))\n",
    "        plt.title(\"Interpolation of mass-radius\")\n",
    "        plt.xlabel(\"Radius(earth radius)\")\n",
    "        plt.ylabel(\"Mass(solar mass)\")\n",
    "        plt.gca().legend(('Data','interpolation for given D'), loc='upper right')\n",
    "        break;\n",
    "        \n",
    "    \"\"\"CHECK FIT look if D is okay, if not update it \"\"\"\n",
    "    if (sum(M)-sum(spl(R))<0):\n",
    "        D = D - dD\n",
    "    else:\n",
    "        D = D + dD      \n",
    "        \n",
    "        "
   ]
  },
  {
   "cell_type": "code",
   "execution_count": null,
   "metadata": {},
   "outputs": [],
   "source": []
  }
 ],
 "metadata": {
  "kernelspec": {
   "display_name": "Python 3",
   "language": "python",
   "name": "python3"
  },
  "language_info": {
   "codemirror_mode": {
    "name": "ipython",
    "version": 3
   },
   "file_extension": ".py",
   "mimetype": "text/x-python",
   "name": "python",
   "nbconvert_exporter": "python",
   "pygments_lexer": "ipython3",
   "version": "3.6.9"
  }
 },
 "nbformat": 4,
 "nbformat_minor": 2
}
