{
 "cells": [
  {
   "cell_type": "code",
   "execution_count": 84,
   "metadata": {},
   "outputs": [
    {
     "name": "stderr",
     "output_type": "stream",
     "text": [
      "/home/ekrem/Ekrem/chandrasekhar_solver.py:16: RuntimeWarning: invalid value encountered in double_scalars\n",
      "  dydt = [y[1] , (-2/t)*y[1] - (y[0]**2 - (1/y_c**2))**(3/2)]\n"
     ]
    },
    {
     "name": "stdout",
     "output_type": "stream",
     "text": [
      "0 error: 2.743463648961576e-07  and corresponding D:  1710000000.0\n",
      "1 error: 3.6527118675983414e-07  and corresponding D:  1720000000.0\n",
      "2 error: 2.938561748742773e-07  and corresponding D:  1730000000.0\n",
      "3 error: 3.3093604371474526e-07  and corresponding D:  1740000000.0\n",
      "4 error: 2.468350220498787e-07  and corresponding D:  1750000000.0\n",
      "5 error: 2.9401099688613414e-07  and corresponding D:  1760000000.0\n",
      "6 error: 2.2510797418273134e-07  and corresponding D:  1770000000.0\n",
      "7 error: 1.710877691133372e-07  and corresponding D:  1780000000.0\n",
      "8 error: 1.1839436197030454e-07  and corresponding D:  1790000000.0\n",
      "9 error: 7.877768109637209e-08  and corresponding D:  1800000000.0\n",
      "10 error: 4.1777036536433274e-08  and corresponding D:  1810000000.0\n",
      "11 error: 1.8467913842483757e-08  and corresponding D:  1820000000.0\n",
      "12 error: 8.332282964906645e-09  and corresponding D:  1830000000.0\n",
      "D is : 1830000000.0 with error:  2.1075048042135396e-09 corresponding C is:  5.380892404212922e+21\n"
     ]
    },
    {
     "data": {
      "text/plain": [
       "<Figure size 432x288 with 0 Axes>"
      ]
     },
     "metadata": {},
     "output_type": "display_data"
    },
    {
     "data": {
      "image/png": "[encoded data removed]",
      "text/plain": [
       "<Figure size 648x360 with 1 Axes>"
      ]
     },
     "metadata": {},
     "output_type": "display_data"
    }
   ],
   "source": [
    "import numpy as np\n",
    "import chandrasekhar_solver as ch\n",
    "import Functions as F\n",
    "from scipy.interpolate import UnivariateSpline\n",
    "import matplotlib.pyplot as plt\n",
    "\n",
    "### DATA ### \n",
    "M,logg = F.data_reader()\n",
    "M,R = F.scaler(M,logg)\n",
    "\n",
    "### inital guess ###\n",
    "max_iter = 200\n",
    "D = 1700000000.0\n",
    "dD = 1e7\n",
    "rho_c = np.linspace(10**10,10**7,20)\n",
    "tol = 7e-9\n",
    "\n",
    "### CONSTANTS(SI) ###\n",
    "K = 3144530.473379261 #found before\n",
    "G = 6.67408e-11\n",
    "solar_mass = 1.988e30 #kg\n",
    "earth_radius = 6.371e6 #m\n",
    "\n",
    "zeta_n = 0 ## when the solution reaches surface value.\n",
    "zeta_prime_n = 0 ## when the derivative reaches the surface\n",
    "Radius = 0\n",
    "Mass = 0\n",
    "R_new = [] ## for storing new radius and mass\n",
    "M_new = []\n",
    "\n",
    "\n",
    "for i in range(max_iter):\n",
    "        \n",
    "   \n",
    "    \n",
    "    #D or rho_c dependent variables\n",
    "    C = (5/8)*K*(D**(5/3))\n",
    "    for rho in rho_c:\n",
    "        ### solve the chandrasekhar for given rho and D ###\n",
    "        sol,surface = ch.solve_chan(D,rho,limit=8.2,met='RK45')\n",
    "        ##### find the surface #####\n",
    "        for j in range(len(sol.t)):\n",
    "            if (sol.y[0,j] <= surface):\n",
    "                zeta_n = sol.t[j]\n",
    "                zeta_prime_n = sol.y[1,j]\n",
    "            elif(sol.y[0,-1]> surface):\n",
    "                zeta_n = sol.t[-1]\n",
    "                zeta_prime_n = sol.y[1,-1]\n",
    "                \n",
    "\n",
    "\n",
    "        #############################\n",
    "        ### For Radius ###\n",
    "        y_c = np.sqrt(rho/D + 1)\n",
    "        Beta = np.sqrt((2*C)/(np.pi*G))/(D*y_c) ## scale factor of radius\n",
    "        Radius = (Beta*zeta_n)\n",
    "        ### For Mass ###\n",
    "        Mass = 4*np.pi*(Radius**3)*D*(y_c**3)*(-zeta_prime_n/zeta_n)\n",
    "        Mass = Mass/solar_mass\n",
    "        Radius = Radius/earth_radius\n",
    "        ## add them to array\n",
    "        R_new.append(Radius)\n",
    "        M_new.append(Mass)\n",
    "    R_new = np.array(R_new)\n",
    "    M_new = np.array(M_new)\n",
    "    spl = UnivariateSpline(R_new, M_new)\n",
    "    R_new = []\n",
    "    M_new = []\n",
    "    \n",
    "    ### calculate error\n",
    "    error=0\n",
    "    for l in range(len(R)):\n",
    "        error = error + (M[l]-spl(R[l]))**2\n",
    "        error = error/(len(R))\n",
    "    \n",
    "    if (error < tol):\n",
    "        print(\"D is :\",D,\"with error: \", error,\"corresponding C is: \", C)\n",
    "        x = np.linspace(0,2.8,500)\n",
    "        plt.figure()\n",
    "        fig, axis = plt.subplots(figsize = (9,5))\n",
    "        plt.plot(R,M,'ro',x,spl(x))\n",
    "        plt.title(\"Interpolation of mass-radius\")\n",
    "        plt.xlabel(\"Radius(earth radius)\")\n",
    "        plt.ylabel(\"Mass(solar mass)\")\n",
    "        plt.gca().legend(('Data','interpolation for given D'), loc='upper right')\n",
    "        break;\n",
    "      \n",
    "    \"\"\"CHECK FIT look if D is okay, if not update it \"\"\"\n",
    "    if (sum(M)-sum(spl(R))>0):\n",
    "        D = D - dD\n",
    "    else:\n",
    "        D = D + dD      \n",
    "    print(i,\"error:\",error,\" and corresponding D: \",D)\n",
    "    error_ref = error\n",
    "        "
   ]
  },
  {
   "cell_type": "code",
   "execution_count": null,
   "metadata": {},
   "outputs": [],
   "source": []
  }
 ],
 "metadata": {
  "kernelspec": {
   "display_name": "Python 3",
   "language": "python",
   "name": "python3"
  },
  "language_info": {
   "codemirror_mode": {
    "name": "ipython",
    "version": 3
   },
   "file_extension": ".py",
   "mimetype": "text/x-python",
   "name": "python",
   "nbconvert_exporter": "python",
   "pygments_lexer": "ipython3",
   "version": "3.6.9"
  }
 },
 "nbformat": 4,
 "nbformat_minor": 2
}
