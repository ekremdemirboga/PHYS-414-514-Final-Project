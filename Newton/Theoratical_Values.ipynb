{
 "cells": [
  {
   "cell_type": "code",
   "execution_count": 23,
   "metadata": {},
   "outputs": [],
   "source": [
    "import numpy as np\n",
    "### THEORATİCAL VALUES OF C AND D###\n",
    "\n",
    "hbar = 1.0545718e-34\n",
    "c = 299792458\n",
    "me = 9.10938356e-31\n",
    "atomic_mass_unit = 1.66054e-27\n",
    "G = 6.674081e-11\n",
    "solar_mass = 1.988e30\n",
    "\n",
    "C = ((me**4)*(c**5))/(24*(np.pi**2)*(hbar**3))\n",
    "D = ((3*(np.pi**2)*(hbar**3))/(atomic_mass_unit*(me**3)*(c**3)*2))**(-1)"
   ]
  },
  {
   "cell_type": "code",
   "execution_count": 24,
   "metadata": {},
   "outputs": [
    {
     "name": "stdout",
     "output_type": "stream",
     "text": [
      "Theoratical value of C is : 6.002332114024319e+21\n"
     ]
    }
   ],
   "source": [
    "print(\"Theoratical value of C is :\",C)"
   ]
  },
  {
   "cell_type": "code",
   "execution_count": 25,
   "metadata": {},
   "outputs": [
    {
     "name": "stdout",
     "output_type": "stream",
     "text": [
      "Theoratical value of D is : 1947865435.2624369\n"
     ]
    }
   ],
   "source": [
    "print(\"Theoratical value of D is :\",D)"
   ]
  },
  {
   "cell_type": "code",
   "execution_count": 26,
   "metadata": {},
   "outputs": [],
   "source": [
    "K = (8*C)/(5*(D**(5/3)))"
   ]
  },
  {
   "cell_type": "code",
   "execution_count": 27,
   "metadata": {},
   "outputs": [
    {
     "name": "stdout",
     "output_type": "stream",
     "text": [
      "Theoratical value of K is : 3161125.6038212245\n"
     ]
    }
   ],
   "source": [
    "print(\"Theoratical value of K is :\",K)"
   ]
  },
  {
   "cell_type": "code",
   "execution_count": 28,
   "metadata": {},
   "outputs": [],
   "source": [
    "### Theorica value of Chandrasekhar\n",
    "xi_3 = 6.926992292292292\n",
    "theta_3_prime=-0.04210902023243969\n",
    "K1 = (2*C/D**(4/3))\n",
    "Mch = 4*np.pi*(K1/(G*np.pi))**(3/2)*xi_3**2*(-theta_3_prime)"
   ]
  },
  {
   "cell_type": "code",
   "execution_count": 29,
   "metadata": {},
   "outputs": [
    {
     "name": "stdout",
     "output_type": "stream",
     "text": [
      "Theoratical value of Chandrasekhar mass is : 1.45832101520284\n"
     ]
    }
   ],
   "source": [
    "print(\"Theoratical value of Chandrasekhar mass is :\",Mch/solar_mass)"
   ]
  }
 ],
 "metadata": {
  "kernelspec": {
   "display_name": "Python 3",
   "language": "python",
   "name": "python3"
  },
  "language_info": {
   "codemirror_mode": {
    "name": "ipython",
    "version": 3
   },
   "file_extension": ".py",
   "mimetype": "text/x-python",
   "name": "python",
   "nbconvert_exporter": "python",
   "pygments_lexer": "ipython3",
   "version": "3.6.9"
  }
 },
 "nbformat": 4,
 "nbformat_minor": 2
}
