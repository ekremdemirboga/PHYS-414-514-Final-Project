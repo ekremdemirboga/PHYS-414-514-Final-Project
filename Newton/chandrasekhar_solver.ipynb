{
 "cells": [
  {
   "cell_type": "code",
   "execution_count": 1,
   "metadata": {},
   "outputs": [],
   "source": [
    "import numpy as np\n",
    "from scipy.integrate import solve_ivp\n",
    "\n",
    "def solve_chan(D,rho_c,limit=5,met = 'LSODA'):\n",
    "    ##### takes the guess D and inital guess rho_c                                    ######\n",
    "    ##### Then, solves the chandrasekhar white dwarf equation and returns it as solve.######\n",
    "    ##### also returns the value which unction gives the surface for further use     ######\n",
    "    def f(t, y):\n",
    "        y_c = np.sqrt((rho_c/D) + 1)\n",
    "        dydt = [y[1] , (-2/t)*y[1] - (y[0]**2 - (1/y_c**2))**(3/2)]\n",
    "        return dydt\n",
    "        \n",
    "    y_c = np.sqrt((rho_c/D) + 1)\n",
    "    dt = 0.01\n",
    "    tspan = np.linspace(0+dt,limit,100)  \n",
    "    yinit = [1,0]\n",
    "    \n",
    "    sol = solve_ivp(lambda t, y: f(t, y),[tspan[0], tspan[-1]], yinit,method=met,t_eval=tspan)\n",
    "    surface = 1/(y_c)\n",
    "    return sol,surface"
   ]
  }
 ],
 "metadata": {
  "kernelspec": {
   "display_name": "Python 3",
   "language": "python",
   "name": "python3"
  },
  "language_info": {
   "codemirror_mode": {
    "name": "ipython",
    "version": 3
   },
   "file_extension": ".py",
   "mimetype": "text/x-python",
   "name": "python",
   "nbconvert_exporter": "python",
   "pygments_lexer": "ipython3",
   "version": "3.6.9"
  }
 },
 "nbformat": 4,
 "nbformat_minor": 2
}
