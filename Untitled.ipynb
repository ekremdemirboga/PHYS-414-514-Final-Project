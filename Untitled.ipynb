{
 "cells": [
  {
   "cell_type": "code",
   "execution_count": 9,
   "metadata": {},
   "outputs": [
    {
     "name": "stdout",
     "output_type": "stream",
     "text": [
      "[1.         0.99999577 0.999984   0.99996478 0.99993817 0.99990429\n",
      " 0.99986329 0.99981532 0.99976057 0.9996993  0.9996317  0.99955808\n",
      " 0.99947867 0.99939378 0.99930384 0.99920905 0.99910978 0.99900642\n",
      " 0.99889921 0.99878868 0.99867496 0.99855858 0.99844189 0.99832347\n",
      " 0.99820323 0.99808117 0.99795729 0.99783382 0.99771019 0.99758593\n",
      " 0.99746106 0.99733796 0.99721559 0.99709373 0.99697236 0.99685347\n",
      " 0.99673603 0.99662005 0.99650651 0.99639518 0.99628591 0.99617885\n",
      " 0.99607512 0.99597365 0.99587463 0.99577823 0.99568454 0.99559371\n",
      " 0.99550589        nan        nan        nan        nan        nan\n",
      "        nan        nan        nan        nan        nan        nan\n",
      "        nan        nan        nan        nan        nan        nan\n",
      "        nan        nan        nan        nan        nan        nan\n",
      "        nan        nan        nan        nan        nan        nan\n",
      "        nan        nan        nan        nan        nan        nan\n",
      "        nan        nan        nan        nan        nan        nan\n",
      "        nan        nan        nan        nan        nan        nan\n",
      "        nan        nan        nan        nan]\n",
      "R: [0.]\n",
      "M [0.]\n"
     ]
    },
    {
     "name": "stderr",
     "output_type": "stream",
     "text": [
      "/home/ekrem/Ekrem/chandrasekhar_solver.py:16: RuntimeWarning: invalid value encountered in double_scalars\n",
      "  dydt = [y[1] , (-2/t)*y[1] - (y[0]**2 - (1/y_c**2))**(3/2)]\n"
     ]
    },
    {
     "ename": "error",
     "evalue": "(m>k) failed for hidden m: fpcurf0:m=1",
     "output_type": "error",
     "traceback": [
      "\u001b[0;31m---------------------------------------------------------------------------\u001b[0m",
      "\u001b[0;31merror\u001b[0m                                     Traceback (most recent call last)",
      "\u001b[0;32m<ipython-input-9-81f60f65a8b2>\u001b[0m in \u001b[0;36m<module>\u001b[0;34m()\u001b[0m\n\u001b[1;32m     61\u001b[0m     \u001b[0mprint\u001b[0m\u001b[0;34m(\u001b[0m\u001b[0;34m\"R:\"\u001b[0m\u001b[0;34m,\u001b[0m\u001b[0mR_new\u001b[0m\u001b[0;34m)\u001b[0m\u001b[0;34m\u001b[0m\u001b[0;34m\u001b[0m\u001b[0m\n\u001b[1;32m     62\u001b[0m     \u001b[0mprint\u001b[0m\u001b[0;34m(\u001b[0m\u001b[0;34m\"M\"\u001b[0m\u001b[0;34m,\u001b[0m\u001b[0mM_new\u001b[0m\u001b[0;34m)\u001b[0m\u001b[0;34m\u001b[0m\u001b[0;34m\u001b[0m\u001b[0m\n\u001b[0;32m---> 63\u001b[0;31m     \u001b[0mspl\u001b[0m \u001b[0;34m=\u001b[0m \u001b[0mUnivariateSpline\u001b[0m\u001b[0;34m(\u001b[0m\u001b[0mR_new\u001b[0m\u001b[0;34m,\u001b[0m \u001b[0mM_new\u001b[0m\u001b[0;34m)\u001b[0m\u001b[0;34m\u001b[0m\u001b[0;34m\u001b[0m\u001b[0m\n\u001b[0m\u001b[1;32m     64\u001b[0m     \u001b[0mx\u001b[0m \u001b[0;34m=\u001b[0m \u001b[0mnp\u001b[0m\u001b[0;34m.\u001b[0m\u001b[0mlinspace\u001b[0m\u001b[0;34m(\u001b[0m\u001b[0;36m0\u001b[0m\u001b[0;34m,\u001b[0m\u001b[0;36m2.8\u001b[0m\u001b[0;34m,\u001b[0m\u001b[0;36m50\u001b[0m\u001b[0;34m)\u001b[0m\u001b[0;34m\u001b[0m\u001b[0;34m\u001b[0m\u001b[0m\n\u001b[1;32m     65\u001b[0m     \u001b[0mplt\u001b[0m\u001b[0;34m.\u001b[0m\u001b[0mplot\u001b[0m\u001b[0;34m(\u001b[0m\u001b[0mR_new\u001b[0m\u001b[0;34m,\u001b[0m\u001b[0mM_new\u001b[0m\u001b[0;34m,\u001b[0m\u001b[0;34m'o'\u001b[0m\u001b[0;34m)\u001b[0m\u001b[0;34m\u001b[0m\u001b[0;34m\u001b[0m\u001b[0m\n",
      "\u001b[0;32m/home/ekrem/.local/lib/python3.6/site-packages/scipy/interpolate/fitpack2.py\u001b[0m in \u001b[0;36m__init__\u001b[0;34m(self, x, y, w, bbox, k, s, ext, check_finite)\u001b[0m\n\u001b[1;32m    184\u001b[0m \u001b[0;34m\u001b[0m\u001b[0m\n\u001b[1;32m    185\u001b[0m         data = dfitpack.fpcurf0(x, y, k, w=w, xb=bbox[0],\n\u001b[0;32m--> 186\u001b[0;31m                                 xe=bbox[1], s=s)\n\u001b[0m\u001b[1;32m    187\u001b[0m         \u001b[0;32mif\u001b[0m \u001b[0mdata\u001b[0m\u001b[0;34m[\u001b[0m\u001b[0;34m-\u001b[0m\u001b[0;36m1\u001b[0m\u001b[0;34m]\u001b[0m \u001b[0;34m==\u001b[0m \u001b[0;36m1\u001b[0m\u001b[0;34m:\u001b[0m\u001b[0;34m\u001b[0m\u001b[0;34m\u001b[0m\u001b[0m\n\u001b[1;32m    188\u001b[0m             \u001b[0;31m# nest too small, setting to maximum bound\u001b[0m\u001b[0;34m\u001b[0m\u001b[0;34m\u001b[0m\u001b[0;34m\u001b[0m\u001b[0m\n",
      "\u001b[0;31merror\u001b[0m: (m>k) failed for hidden m: fpcurf0:m=1"
     ]
    },
    {
     "data": {
      "image/png": "[encoded data removed]",
      "text/plain": [
       "<Figure size 432x288 with 1 Axes>"
      ]
     },
     "metadata": {},
     "output_type": "display_data"
    }
   ],
   "source": [
    "import numpy as np\n",
    "import chandrasekhar_solver as ch\n",
    "import Functions as F\n",
    "from scipy.interpolate import UnivariateSpline\n",
    "import matplotlib.pyplot as plt\n",
    "\n",
    "### DATA ### \n",
    "M,logg = F.data_reader()\n",
    "M,R = F.scaler(M,logg)\n",
    "\n",
    "### inital guess ###\n",
    "max_iter = 1\n",
    "D = 1e9\n",
    "rho_c = np.linspace(10**7,10**9,1)\n",
    "\n",
    "### CONSTANTS(SI) ###\n",
    "K = 3.6040457789304547e11 #found before\n",
    "G = 6.67408e-11\n",
    "solar_mass = 1.988e30 #kg\n",
    "earth_radius = 6.371e6 #m\n",
    "\n",
    "zeta_n = 0 ## when the solution reaches surface value.\n",
    "zeta_prime_n = 0 ## when the derivative reaches the surface\n",
    "Radius = 0\n",
    "Mass = 0\n",
    "R_new = [] ## for storing new radius and mass\n",
    "M_new = []\n",
    "\n",
    "for i in range(max_iter):\n",
    "    \n",
    "    \"\"\"CHECK FIT look if D is okay, if not update it \"\"\"\n",
    "    \n",
    "    \n",
    "    #D or rho_c dependent variables\n",
    "    C = (5/8)*K*(D**(5/3))\n",
    "    for rho in rho_c:\n",
    "        ### solve the chandrasekhar for given rho and D ###\n",
    "        sol,surface = ch.solve_chan(D,rho,limit=15)\n",
    "        plt.plot(sol.t,sol.y[0])\n",
    "        print(sol.y[0])\n",
    "        ##### find the surface #####\n",
    "        for j in range(len(sol.t)):\n",
    "            if (sol.y[0,j] <= surface):\n",
    "                zeta_n = sol.t[j]\n",
    "                zeta_prime_n = sol.y[1,j]\n",
    "                \n",
    "\n",
    "        #############################\n",
    "        ### For Radius ###\n",
    "        y_c = np.sqrt(rho/D + 1)\n",
    "        Beta = np.sqrt(2*C/np.pi*G)/(D*y_c) ## scale factor of radius\n",
    "        Radius = (Beta*zeta_n)/earth_radius\n",
    "        ### For Mass ###\n",
    "        Mass = 4*np.pi*(Beta**3)*D*(y_c**3)*(zeta_n**2)*(-zeta_prime_n)\n",
    "        Mass = Mass/solar_mass\n",
    "        ## add them to array\n",
    "        R_new.append(Radius)\n",
    "        M_new.append(Mass)\n",
    "    R_new = np.array(R_new)\n",
    "    M_new = np.array(M_new)\n",
    "    print(\"R:\",R_new)\n",
    "    print(\"M\",M_new)\n",
    "    spl = UnivariateSpline(R_new, M_new)\n",
    "    x = np.linspace(0,2.8,50)\n",
    "    plt.plot(R_new,M_new,'o')\n",
    "    R_new = []\n",
    "    M_new = []\n",
    "            \n",
    "        \n",
    "        "
   ]
  },
  {
   "cell_type": "code",
   "execution_count": null,
   "metadata": {},
   "outputs": [],
   "source": []
  },
  {
   "cell_type": "code",
   "execution_count": null,
   "metadata": {},
   "outputs": [],
   "source": []
  }
 ],
 "metadata": {
  "kernelspec": {
   "display_name": "Python 3",
   "language": "python",
   "name": "python3"
  },
  "language_info": {
   "codemirror_mode": {
    "name": "ipython",
    "version": 3
   },
   "file_extension": ".py",
   "mimetype": "text/x-python",
   "name": "python",
   "nbconvert_exporter": "python",
   "pygments_lexer": "ipython3",
   "version": "3.6.9"
  }
 },
 "nbformat": 4,
 "nbformat_minor": 2
}
