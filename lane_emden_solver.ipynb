{
 "cells": [
  {
   "cell_type": "code",
   "execution_count": 1,
   "metadata": {},
   "outputs": [],
   "source": [
    "import numpy as np\n",
    "from scipy.integrate import solve_ivp\n",
    "\n",
    "def solve_le(n,limit):\n",
    "    ### Solves the Lane-Emden Equation for given n starting from 0 to limit. Uses 'RK45'.###\n",
    "    ### Returns the result as scipy.integrate._ivp.ivp.OdeResult ###\n",
    "    def f(t, y):\n",
    "        a= n\n",
    "        dydt = [y[1] , (-2/t)*y[1]-y[0]**(a)]  \n",
    "        return dydt\n",
    "    \n",
    "    dt = 0.0001\n",
    "    tspan = np.linspace(0+dt,limit,1000)  \n",
    "    yinit = [1,0]\n",
    "    \n",
    "    sol = solve_ivp(lambda t, y: f(t, y),[tspan[0], tspan[-1]], yinit, t_eval=tspan)\n",
    "\n",
    "    return sol"
   ]
  }
 ],
 "metadata": {
  "kernelspec": {
   "display_name": "Python 3",
   "language": "python",
   "name": "python3"
  },
  "language_info": {
   "codemirror_mode": {
    "name": "ipython",
    "version": 3
   },
   "file_extension": ".py",
   "mimetype": "text/x-python",
   "name": "python",
   "nbconvert_exporter": "python",
   "pygments_lexer": "ipython3",
   "version": "3.6.9"
  }
 },
 "nbformat": 4,
 "nbformat_minor": 2
}
