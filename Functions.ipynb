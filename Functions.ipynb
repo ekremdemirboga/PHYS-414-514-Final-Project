{
 "cells": [
  {
   "cell_type": "code",
   "execution_count": 1,
   "metadata": {},
   "outputs": [],
   "source": [
    "import csv\n",
    "import numpy as np\n",
    "import matplotlib.pyplot as plt\n",
    "\n",
    "def data_reader(file_name='white_dwarf_data.csv'):\n",
    "    ### Reads the file and returns columns as sorted arrays ###\n",
    "    star_masses = []\n",
    "    star_surface_g = []\n",
    "    line_count = 0\n",
    "    with open(file_name) as csv_file:\n",
    "        reader = csv.reader(csv_file, delimiter=',')\n",
    "        for row in reader:\n",
    "            if line_count == 0:\n",
    "                line_count +=1\n",
    "            else:\n",
    "                star_surface_g.append(float(row[1]))\n",
    "                star_masses.append(float(row[2]))\n",
    "                line_count += 1\n",
    "                \n",
    "    star_masses = np.array(star_masses)\n",
    "    star_surface_g = np.array(star_surface_g)\n",
    "    \n",
    "\n",
    "    return star_masses,star_surface_g\n",
    "\n",
    "def scaler(M,logg):\n",
    "    #### takes mass in solar mass and log of g, return scaled mass and radius ####\n",
    "    #### in solar mass and earth radii                                        ####\n",
    "    #constants#\n",
    "    solar_mass = 1.988e30 #kg\n",
    "    G = 6.67408e-11\n",
    "    earth_radius = 6.371e6 #m\n",
    "\n",
    "    g = (10**logg)*(10**(-2)) # in SI units\n",
    "    mass = M * solar_mass # mass in kg\n",
    "    R = np.sqrt(G*mass/g) #m\n",
    "    R = R/earth_radius\n",
    "    return M,R\n",
    "\n",
    "def low_mass_radius(M,R,max_mass):\n",
    "    #### takes arrays M and R returns the mass array M_new with smaller than max_mass ####\n",
    "    #### and corresponding radiues as R_new arrays                                    ####\n",
    "    M_new = []\n",
    "    R_new = []\n",
    "    for i in range(len(M)):\n",
    "        if (M[i] <= max_mass):\n",
    "            M_new.append(M[i])\n",
    "            R_new.append(R[i])\n",
    "    R_new = np.array(R_new)\n",
    "    M_new = np.array(M_new)\n",
    "    return M_new,R_new"
   ]
  }
 ],
 "metadata": {
  "kernelspec": {
   "display_name": "Python 3",
   "language": "python",
   "name": "python3"
  },
  "language_info": {
   "codemirror_mode": {
    "name": "ipython",
    "version": 3
   },
   "file_extension": ".py",
   "mimetype": "text/x-python",
   "name": "python",
   "nbconvert_exporter": "python",
   "pygments_lexer": "ipython3",
   "version": "3.6.9"
  }
 },
 "nbformat": 4,
 "nbformat_minor": 2
}
