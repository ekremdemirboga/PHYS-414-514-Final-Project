{
 "cells": [
  {
   "cell_type": "code",
   "execution_count": 48,
   "metadata": {},
   "outputs": [
    {
     "name": "stderr",
     "output_type": "stream",
     "text": [
      "/home/ekrem/Ekrem/chandrasekhar_solver.py:16: RuntimeWarning: invalid value encountered in double_scalars\n",
      "  dydt = [y[1] , (-2/t)*y[1] - (y[0]**2 - (1/y_c**2))**(3/2)]\n"
     ]
    },
    {
     "name": "stdout",
     "output_type": "stream",
     "text": [
      "[0.07452626 0.35372993 0.94131256 1.29734205 1.37888952 1.39037175\n",
      " 1.39191801 1.39290848 1.3929224  1.39292379 1.39292393 1.39292394\n",
      " 1.39292395 1.39292395]\n",
      "difference between two last mass values:  1.1546319456101628e-14\n",
      "Chandrasekhar Mass is :  1.3929239460529599 (in solar mass)\n"
     ]
    },
    {
     "data": {
      "image/png": "[encoded data removed]",
      "text/plain": [
       "<Figure size 648x360 with 1 Axes>"
      ]
     },
     "metadata": {},
     "output_type": "display_data"
    }
   ],
   "source": [
    "import numpy as np\n",
    "import chandrasekhar_solver as ch\n",
    "import Functions as F\n",
    "from scipy.interpolate import UnivariateSpline\n",
    "import matplotlib.pyplot as plt\n",
    "\n",
    "### DATA ### \n",
    "M,logg = F.data_reader()\n",
    "M,R = F.scaler(M,logg)\n",
    "\n",
    "D = 1780000000.0 #found\n",
    "rho_c = [1e8, 1e9, 1e10, 1e11, 1e12, 1e13, 1e14, 1e15, 1e16, 1e17, 1e18, 1e19, 1e24, 1e25]\n",
    "\n",
    "### CONSTANTS(SI) ###\n",
    "K = 3161125.6038212245 #theoratical value\n",
    "G = 6.67408e-11\n",
    "solar_mass = 1.988e30 #kg\n",
    "earth_radius = 6.371e6 #m\n",
    "\n",
    "zeta_n = 0 ## when the solution reaches surface value.\n",
    "zeta_prime_n = 0 ## when the derivative reaches the surface\n",
    "Radius = 0\n",
    "Mass = 0\n",
    "R_new = [] ## for storing new radius and mass\n",
    "M_new = []\n",
    "C = 5.165215436316856e+21 #found\n",
    "for rho in rho_c:\n",
    "    ### solve the chandrasekhar for given rho and D ###\n",
    "    sol,surface = ch.solve_chan(D,rho,limit=8.2,met='RK45')\n",
    "    ##### find the surface #####\n",
    "    for j in range(len(sol.t)):\n",
    "        if (sol.y[0,j] <= surface):\n",
    "            zeta_n = sol.t[j]\n",
    "            zeta_prime_n = sol.y[1,j]\n",
    "        elif(sol.y[0,-1]> surface):\n",
    "            zeta_n = sol.t[-1]\n",
    "            zeta_prime_n = sol.y[1,-1]\n",
    "    ### For Radius ###\n",
    "    y_c = np.sqrt(rho/D + 1)\n",
    "    Beta = np.sqrt((2*C)/(np.pi*G))/(D*y_c) ## scale factor of radius\n",
    "    Radius = (Beta*zeta_n)\n",
    "    ### For Mass ###\n",
    "    Mass = 4*np.pi*(Radius**3)*D*(y_c**3)*(-zeta_prime_n/zeta_n)\n",
    "    Mass = Mass/solar_mass\n",
    "    Radius = Radius/earth_radius\n",
    "    ## add them to array\n",
    "    R_new.append(Radius)\n",
    "    M_new.append(Mass)\n",
    "R_new = np.array(R_new)\n",
    "M_new = np.array(M_new)\n",
    "fig, axis = plt.subplots(figsize = (9,5))\n",
    "plt.plot(R_new,M_new,'o')\n",
    "plt.title(\"mass-radius\")\n",
    "plt.xlabel(\"Radius(earth radius)\")\n",
    "plt.ylabel(\"Mass(solar mass)\")\n",
    "print(M_new)\n",
    "print(\"difference between two last mass values: \", M_new[-1]-M_new[-2])\n",
    "print(\"Chandrasekhar Mass is : \",M_new[-1],\"(in solar mass)\")\n"
   ]
  },
  {
   "cell_type": "code",
   "execution_count": null,
   "metadata": {},
   "outputs": [],
   "source": []
  }
 ],
 "metadata": {
  "kernelspec": {
   "display_name": "Python 3",
   "language": "python",
   "name": "python3"
  },
  "language_info": {
   "codemirror_mode": {
    "name": "ipython",
    "version": 3
   },
   "file_extension": ".py",
   "mimetype": "text/x-python",
   "name": "python",
   "nbconvert_exporter": "python",
   "pygments_lexer": "ipython3",
   "version": "3.6.9"
  }
 },
 "nbformat": 4,
 "nbformat_minor": 2
}
