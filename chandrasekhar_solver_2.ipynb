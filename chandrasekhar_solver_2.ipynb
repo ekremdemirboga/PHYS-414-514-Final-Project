{
 "cells": [
  {
   "cell_type": "code",
   "execution_count": 1,
   "metadata": {},
   "outputs": [],
   "source": [
    "import numpy as np\n",
    "import matplotlib.pyplot as plt\n",
    "\n",
    "def chan_solve(D,rho_c):\n",
    "    \n",
    "    def f(x, y, z):\n",
    "        return z\n",
    "\n",
    "    def g(x, y, z, rho_c,D):\n",
    "        y_c = np.sqrt((rho_c/D) + 1)\n",
    "        return -(y**2 - 1/(y_c**2))**(3/2) -2/x*z\n",
    "\n",
    "    def integrate(x_0, y_0, z_0, rho_c, D, t_step):\n",
    "        '''Integrates one time step'''\n",
    "        k_0 = t_step * f(x_0, y_0, z_0)\n",
    "        l_0 = t_step * g(x_0, y_0, z_0, rho_c, D)\n",
    "        k_1 = t_step * f(x_0+1/2*t_step, y_0+1/2*k_0, z_0+1/2*l_0)\n",
    "        l_1 = t_step * g(x_0+1/2*t_step, y_0+1/2*k_0, z_0+1/2*l_0, rho_c, D)\n",
    "        k_2 = t_step * f(x_0+1/2*t_step, y_0+1/2*k_1, z_0+1/2*l_1)\n",
    "        l_2 = t_step * g(x_0+1/2*t_step, y_0+1/2*k_1, z_0+1/2*l_1, rho_c, D)\n",
    "        k_3 = t_step * f(x_0+t_step, y_0+k_2, z_0+l_2)\n",
    "        l_3 = t_step * g(x_0+t_step, y_0+k_2, z_0+l_2, rho_c, D)\n",
    "        x_1 = x_0 + t_step\n",
    "        y_1 = y_0 + 1/6 * (k_0+2*k_1+2*k_2+k_3)\n",
    "        z_1 = z_0 + 1/6 * (l_0+2*l_1+2*l_2+l_3)\n",
    "        return (x_1, y_1, z_1)\n",
    "\n",
    "    # define initial conditions\n",
    "    x_0 = 1e-50 # need some small value that is close to 0 but not exactly 0\n",
    "    y_0 = 1\n",
    "    z_0 = 0\n",
    "\n",
    "    # do the integration and compile the results into two lists\n",
    "    xs = [x_0]\n",
    "    ys = [y_0]\n",
    "    rho_c = 1e8\n",
    "    D = 1e10\n",
    "    t_step = 0.01\n",
    "    y_c = np.sqrt((rho_c/D) + 1)\n",
    "    while y_0>(1/((y_c)**2)):\n",
    "        x_0, y_0, z_0 = integrate(x_0, y_0, z_0, rho_c, D, t_step)\n",
    "        xs.append(x_0)\n",
    "        ys.append(y_0)\n",
    "    return xs,ys\n"
   ]
  }
 ],
 "metadata": {
  "kernelspec": {
   "display_name": "Python 3",
   "language": "python",
   "name": "python3"
  },
  "language_info": {
   "codemirror_mode": {
    "name": "ipython",
    "version": 3
   },
   "file_extension": ".py",
   "mimetype": "text/x-python",
   "name": "python",
   "nbconvert_exporter": "python",
   "pygments_lexer": "ipython3",
   "version": "3.6.9"
  }
 },
 "nbformat": 4,
 "nbformat_minor": 2
}
